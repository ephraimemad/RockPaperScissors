{
  "nbformat": 4,
  "nbformat_minor": 0,
  "metadata": {
    "colab": {
      "provenance": [],
      "authorship_tag": "ABX9TyND3KeHk7QrrC9+n6c/tuKv",
      "include_colab_link": true
    },
    "kernelspec": {
      "name": "python3",
      "display_name": "Python 3"
    },
    "language_info": {
      "name": "python"
    }
  },
  "cells": [
    {
      "cell_type": "markdown",
      "metadata": {
        "id": "view-in-github",
        "colab_type": "text"
      },
      "source": [
        "<a href=\"https://colab.research.google.com/github/ephraimemad/RockPaperScissors/blob/main/rock%2C_paper%2C_or_scissors.ipynb\" target=\"_parent\"><img src=\"https://colab.research.google.com/assets/colab-badge.svg\" alt=\"Open In Colab\"/></a>"
      ]
    },
    {
      "cell_type": "code",
      "execution_count": 2,
      "metadata": {
        "id": "bs2MZV5-Mexb"
      },
      "outputs": [],
      "source": [
        "import random\n",
        "\n",
        "moves = ['rock', 'paper', 'scissors']\n",
        "user_history = []\n"
      ]
    },
    {
      "cell_type": "code",
      "source": [
        "def get_bot_move():\n",
        "    if not user_history:\n",
        "        return random.choice(moves)\n",
        "    most_common = max(set(user_history), key=user_history.count)\n",
        "    # Predict and counter the user's most frequent move\n",
        "    if most_common == 'rock':\n",
        "        return 'paper'\n",
        "    elif most_common == 'paper':\n",
        "        return 'scissors'\n",
        "    else:\n",
        "        return 'rock'\n"
      ],
      "metadata": {
        "id": "OyIQeiEpcrkL"
      },
      "execution_count": 3,
      "outputs": []
    },
    {
      "cell_type": "code",
      "source": [
        "def winner(user, bot):\n",
        "    if user == bot:\n",
        "        return \"Draw\"\n",
        "    elif (user == 'rock' and bot == 'scissors') or \\\n",
        "         (user == 'paper' and bot == 'rock') or \\\n",
        "         (user == 'scissors' and bot == 'paper'):\n",
        "        return \"You Win!\"\n",
        "    else:\n",
        "        return \"Bot Wins!\"\n"
      ],
      "metadata": {
        "id": "ZKvmgGbIcsD7"
      },
      "execution_count": 4,
      "outputs": []
    },
    {
      "cell_type": "code",
      "source": [
        "while True:\n",
        "    user_move = input(\"Enter rock, paper, or scissors (or quit): \").lower()\n",
        "    if user_move == \"quit\":\n",
        "        break\n",
        "    if user_move not in moves:\n",
        "        print(\"Invalid move.\")\n",
        "        continue\n",
        "    user_history.append(user_move)\n",
        "    bot_move = get_bot_move()\n",
        "    print(f\"Bot chose: {bot_move}\")\n",
        "    print(winner(user_move, bot_move))\n"
      ],
      "metadata": {
        "colab": {
          "base_uri": "https://localhost:8080/"
        },
        "id": "a3VRj0HmcsM1",
        "outputId": "9d659d1d-cd3f-48bd-9fea-32795ca41345"
      },
      "execution_count": null,
      "outputs": [
        {
          "output_type": "stream",
          "name": "stdout",
          "text": [
            "Enter rock, paper, or scissors (or quit): paper\n",
            "Bot chose: scissors\n",
            "Bot Wins!\n"
          ]
        }
      ]
    }
  ]
}